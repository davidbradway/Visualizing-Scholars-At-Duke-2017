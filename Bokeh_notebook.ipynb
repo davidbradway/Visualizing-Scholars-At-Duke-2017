{
 "cells": [
  {
   "cell_type": "code",
   "execution_count": null,
   "metadata": {
    "collapsed": false
   },
   "outputs": [],
   "source": [
    "import pandas as pd\n",
    "from bokeh.charts import output_file, Chord\n",
    "from bokeh.io import show, output_notebook\n",
    "from bokeh.sampledata.les_mis import data\n",
    "output_notebook()"
   ]
  },
  {
   "cell_type": "code",
   "execution_count": null,
   "metadata": {
    "collapsed": false
   },
   "outputs": [],
   "source": [
    "nodes = data['nodes']\n",
    "links = data['links']"
   ]
  },
  {
   "cell_type": "code",
   "execution_count": null,
   "metadata": {
    "collapsed": false
   },
   "outputs": [],
   "source": [
    "nodes_df = pd.DataFrame(nodes)\n",
    "nodes_df.head()"
   ]
  },
  {
   "cell_type": "code",
   "execution_count": null,
   "metadata": {
    "collapsed": false
   },
   "outputs": [],
   "source": [
    "links_df = pd.DataFrame(links)\n",
    "links_df.head()"
   ]
  },
  {
   "cell_type": "code",
   "execution_count": null,
   "metadata": {
    "collapsed": false
   },
   "outputs": [],
   "source": [
    "source_data = links_df.merge(nodes_df, how='left', left_on='source', right_index=True)\n",
    "source_data = source_data.merge(nodes_df, how='left', left_on='target', right_index=True)\n",
    "source_data = source_data[source_data[\"value\"] > 5]\n",
    "source_data.head()"
   ]
  },
  {
   "cell_type": "code",
   "execution_count": null,
   "metadata": {
    "collapsed": true
   },
   "outputs": [],
   "source": [
    "chord_from_df = Chord(source_data, source=\"name_x\", target=\"name_y\", value=\"value\")\n",
    "output_file('chord_from_df.html', mode=\"inline\")\n",
    "show(chord_from_df)"
   ]
  },
  {
   "cell_type": "code",
   "execution_count": null,
   "metadata": {
    "collapsed": false
   },
   "outputs": [],
   "source": [
    "import numpy as np\n",
    "import scipy.io as sio\n",
    "\n",
    "author = pd.read_csv('../author.txt', encoding='cp1252',sep=\";\")\n",
    "print(author.head())\n",
    "\n",
    "faculty= pd.read_csv('../scholars_faculty.csv', sep=\"\\t\")\n",
    "print(faculty.head())"
   ]
  },
  {
   "cell_type": "code",
   "execution_count": null,
   "metadata": {
    "collapsed": false
   },
   "outputs": [],
   "source": [
    "# Get the Duke Unique ID for the first Author in the dataset\n",
    "author['duke unique ID,'][0]\n",
    "author.iloc[0]['duke unique ID,']"
   ]
  },
  {
   "cell_type": "code",
   "execution_count": null,
   "metadata": {
    "collapsed": false
   },
   "outputs": [],
   "source": [
    "# Look up the entry for that Faculty member by Unique ID\n",
    "faculty[faculty['DUID'].isin([author['duke unique ID,'][0]])]"
   ]
  },
  {
   "cell_type": "code",
   "execution_count": null,
   "metadata": {
    "collapsed": false
   },
   "outputs": [],
   "source": [
    "mat_contents = sio.loadmat('../coauthornet.mat')\n",
    "coauthornet = mat_contents['coauthornet']\n",
    "# Numpy NdArray\n",
    "\n",
    "coauthor = pd.DataFrame(coauthornet,    # values\n",
    "                        index=author['author name'],    # Names as index\n",
    "                        columns=author['author name'])  # Names as column names\n",
    "coauthor.values\n",
    "\n",
    "#chord_from_df = Chord(coauthor, source=author['author name'], target=author['author name'], square_matrix = True)\n",
    "#output_file('chord_from_df.html', mode=\"inline\")\n",
    "#show(chord_from_df)\n",
    "\n",
    "# Parameters:\t\n",
    "# data (Accepted Charts Data Formats) – the data source for the chart.\n",
    "# source (list(str) – Data source to use as origin of the connection to a destination.\n",
    "# target (list(str) – Data source to use as destination of a connection.\n",
    "# value (list(num) – The value the connection should have.\n",
    "# square_matrix (bool, optional) – If square matrix, avoid any calculations during the setup.\n",
    "# label (list(str) – The labels to be put in the areas."
   ]
  },
  {
   "cell_type": "code",
   "execution_count": null,
   "metadata": {
    "collapsed": true
   },
   "outputs": [],
   "source": []
  }
 ],
 "metadata": {
  "kernelspec": {
   "display_name": "Python 3",
   "language": "python",
   "name": "python3"
  },
  "language_info": {
   "codemirror_mode": {
    "name": "ipython",
    "version": 3
   },
   "file_extension": ".py",
   "mimetype": "text/x-python",
   "name": "python",
   "nbconvert_exporter": "python",
   "pygments_lexer": "ipython3",
   "version": "3.5.2"
  }
 },
 "nbformat": 4,
 "nbformat_minor": 0
}

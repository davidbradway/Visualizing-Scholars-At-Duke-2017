{
 "cells": [
  {
   "cell_type": "code",
   "execution_count": 1,
   "metadata": {
    "collapsed": true
   },
   "outputs": [],
   "source": [
    "import pandas as pd\n",
    "import numpy as np\n",
    "import scipy.io as sio"
   ]
  },
  {
   "cell_type": "code",
   "execution_count": 2,
   "metadata": {
    "collapsed": false
   },
   "outputs": [
    {
     "name": "stdout",
     "output_type": "stream",
     "text": [
      "   row index             author name  duke unique ID,\n",
      "0          1            David W Jang           623466\n",
      "1          2    Carol Casper Figuers            73333\n",
      "2          3  Jeffrey Kyle Covington           279169\n",
      "3          4           Haizhao  Yang           690400\n",
      "4          5            Nancy  Crego           666575\n"
     ]
    }
   ],
   "source": [
    "author = pd.read_csv('../author.txt', encoding='cp1252',sep=\";\")\n",
    "print(author.head())"
   ]
  },
  {
   "cell_type": "code",
   "execution_count": 3,
   "metadata": {
    "collapsed": false
   },
   "outputs": [
    {
     "name": "stdout",
     "output_type": "stream",
     "text": [
      "   DUID PRO_FIRST_NAME PRO_MIDDLE_NAME PRO_LAST_NAME APPOINTMENT_TYPE  \\\n",
      "0  1080         Daniel           James        George          Primary   \n",
      "1  1080         Daniel           James        George        Secondary   \n",
      "2  1255        Suzanne          (null)      Shanahan   Administrative   \n",
      "3  1255        Suzanne          (null)      Shanahan          Primary   \n",
      "4  1438           John              J.       Glushik          Primary   \n",
      "\n",
      "                                               TITLE  Appt Org BFR  \\\n",
      "0                 Professor of Medicine, with tenure    6860201545   \n",
      "1                               Professor in Surgery    6860207000   \n",
      "2      Co-Director of the Kenan Institute for Ethics    6008208000   \n",
      "3  Associate Research Professor in the Department...    6064105610   \n",
      "4  Director of Translational Services in Innovati...    6008101000   \n",
      "\n",
      "   Appt Org Unit               Appt Org Desc  \n",
      "0       50000856         Medicine - Oncology  \n",
      "1       50000983                     Surgery  \n",
      "2       50000373  Kenan Institute for Ethics  \n",
      "3       50000532                   Sociology  \n",
      "4       50000280    PAS Adm - Provost Office  \n"
     ]
    }
   ],
   "source": [
    "faculty= pd.read_csv('../scholars_faculty.csv', sep=\"\\t\")\n",
    "print(faculty.head())"
   ]
  },
  {
   "cell_type": "code",
   "execution_count": 4,
   "metadata": {
    "collapsed": true
   },
   "outputs": [],
   "source": [
    "mat_contents = sio.loadmat('../coauthornet.mat')\n",
    "coauthornet = mat_contents['coauthornet']\n",
    "# Numpy NdArray"
   ]
  },
  {
   "cell_type": "code",
   "execution_count": 6,
   "metadata": {
    "collapsed": false
   },
   "outputs": [
    {
     "name": "stdout",
     "output_type": "stream",
     "text": [
      "author name             David W Jang  Carol Casper Figuers  \\\n",
      "author name                                                  \n",
      "David W Jang                       6                     0   \n",
      "Carol Casper Figuers               0                     2   \n",
      "Jeffrey Kyle Covington             0                     1   \n",
      "Haizhao  Yang                      0                     0   \n",
      "Nancy  Crego                       0                     0   \n",
      "\n",
      "author name             Jeffrey Kyle Covington  Haizhao  Yang  Nancy  Crego  \\\n",
      "author name                                                                   \n",
      "David W Jang                                 0              0             0   \n",
      "Carol Casper Figuers                         1              0             0   \n",
      "Jeffrey Kyle Covington                      10              0             0   \n",
      "Haizhao  Yang                                0              6             0   \n",
      "Nancy  Crego                                 0              0             0   \n",
      "\n",
      "author name             Richard G. Newell  Peter S. Arcidiacono  \\\n",
      "author name                                                       \n",
      "David W Jang                            0                     0   \n",
      "Carol Casper Figuers                    0                     0   \n",
      "Jeffrey Kyle Covington                  0                     0   \n",
      "Haizhao  Yang                           0                     0   \n",
      "Nancy  Crego                            0                     0   \n",
      "\n",
      "author name             Patrick  Bayer  Billy  Pizer  Tim  Bollerslev  \\\n",
      "author name                                                             \n",
      "David W Jang                         0             0                0   \n",
      "Carol Casper Figuers                 0             0                0   \n",
      "Jeffrey Kyle Covington               0             0                0   \n",
      "Haizhao  Yang                        0             0                0   \n",
      "Nancy  Crego                         0             0                0   \n",
      "\n",
      "author name                 ...       Jack  Matlock  Henry  Pickford  \\\n",
      "author name                 ...                                        \n",
      "David W Jang                ...                   0                0   \n",
      "Carol Casper Figuers        ...                   0                0   \n",
      "Jeffrey Kyle Covington      ...                   0                0   \n",
      "Haizhao  Yang               ...                   0                0   \n",
      "Nancy  Crego                ...                   0                0   \n",
      "\n",
      "author name             Tsitsi Ella Jaji  J. Ross Wagner  Madeline  Morris  \\\n",
      "author name                                                                  \n",
      "David W Jang                           0               0                 0   \n",
      "Carol Casper Figuers                   0               0                 0   \n",
      "Jeffrey Kyle Covington                 0               0                 0   \n",
      "Haizhao  Yang                          0               0                 0   \n",
      "Nancy  Crego                           0               0                 0   \n",
      "\n",
      "author name             Michael A. Wallach  Robert  Bryant  Dirk  Philipsen  \\\n",
      "author name                                                                   \n",
      "David W Jang                             0               0                0   \n",
      "Carol Casper Figuers                     0               0                0   \n",
      "Jeffrey Kyle Covington                   0               0                0   \n",
      "Haizhao  Yang                            0               0                0   \n",
      "Nancy  Crego                             0               0                0   \n",
      "\n",
      "author name             Neil  de Marchi  Peter  Lange  \n",
      "author name                                            \n",
      "David W Jang                          0             0  \n",
      "Carol Casper Figuers                  0             0  \n",
      "Jeffrey Kyle Covington                0             0  \n",
      "Haizhao  Yang                         0             0  \n",
      "Nancy  Crego                          0             0  \n",
      "\n",
      "[5 rows x 3319 columns]\n"
     ]
    }
   ],
   "source": [
    "coauthor = pd.DataFrame(coauthornet,    # values\n",
    "                        index=author['author name'],    # Names as index\n",
    "                        columns=author['author name'])  # Names as column names\n",
    "print(coauthor.head())"
   ]
  },
  {
   "cell_type": "code",
   "execution_count": null,
   "metadata": {
    "collapsed": true
   },
   "outputs": [],
   "source": []
  }
 ],
 "metadata": {
  "anaconda-cloud": {},
  "kernelspec": {
   "display_name": "Python [Root]",
   "language": "python",
   "name": "Python [Root]"
  },
  "language_info": {
   "codemirror_mode": {
    "name": "ipython",
    "version": 3
   },
   "file_extension": ".py",
   "mimetype": "text/x-python",
   "name": "python",
   "nbconvert_exporter": "python",
   "pygments_lexer": "ipython3",
   "version": "3.5.2"
  }
 },
 "nbformat": 4,
 "nbformat_minor": 0
}

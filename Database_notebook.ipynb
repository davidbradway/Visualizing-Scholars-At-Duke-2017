{
 "cells": [
  {
   "cell_type": "code",
   "execution_count": 1,
   "metadata": {
    "collapsed": true
   },
   "outputs": [],
   "source": [
    "import pandas as pd\n",
    "import sqlite3"
   ]
  },
  {
   "cell_type": "code",
   "execution_count": 2,
   "metadata": {
    "collapsed": false
   },
   "outputs": [
    {
     "name": "stdout",
     "output_type": "stream",
     "text": [
      "     DUID PRO_FIRST_NAME PRO_MIDDLE_NAME PRO_LAST_NAME  \\\n",
      "0  623466          David               W          Jang   \n",
      "1   73333          Carol          Casper       Figuers   \n",
      "2  279169        Jeffrey            Kyle     Covington   \n",
      "3  690400        Haizhao             NaN          Yang   \n",
      "4  666575          Nancy             NaN         Crego   \n",
      "\n",
      "                                        DISPLAY_NAME  \\\n",
      "0  Surgery, Head and Neck Surgery and Communicati...   \n",
      "1                     Orthopaedics, Physical Therapy   \n",
      "2                     Orthopaedics, Physical Therapy   \n",
      "3                                        Mathematics   \n",
      "4                                  School of Nursing   \n",
      "\n",
      "                                               TITLE  \\\n",
      "0  Product comparison model in otolaryngology: Eq...   \n",
      "1  Developing a Professional Embodiment of Moveme...   \n",
      "2  Developing a Professional Embodiment of Moveme...   \n",
      "3  Oscillatory data analysis and fast algorithms ...   \n",
      "4      Factors Influencing Pediatric Sedation Safety   \n",
      "\n",
      "                                        AUTHOR_URI  \\\n",
      "0  https://scholars.duke.edu/individual/per7361302   \n",
      "1  https://scholars.duke.edu/individual/per4051842   \n",
      "2  https://scholars.duke.edu/individual/per0337862   \n",
      "3  https://scholars.duke.edu/individual/per1768002   \n",
      "4  https://scholars.duke.edu/individual/per6474702   \n",
      "\n",
      "                                   PUBLICATION_URI         PUBLISHED_DATE  \\\n",
      "0  https://scholars.duke.edu/individual/pub1118321   1/1/2016 12:00:00 AM   \n",
      "1  https://scholars.duke.edu/individual/pub1071600   3/3/2015 12:00:00 AM   \n",
      "2  https://scholars.duke.edu/individual/pub1071600   3/3/2015 12:00:00 AM   \n",
      "3  https://scholars.duke.edu/individual/pub1083662  6/14/2015 12:00:00 AM   \n",
      "4  https://scholars.duke.edu/individual/pub1110579   7/5/2013 12:00:00 AM   \n",
      "\n",
      "           PUBLICATION_TYPE  \\\n",
      "0  Theses and Dissertations   \n",
      "1  Theses and Dissertations   \n",
      "2  Theses and Dissertations   \n",
      "3  Theses and Dissertations   \n",
      "4  Theses and Dissertations   \n",
      "\n",
      "                                            ABSTRACT  DOI ISSN EISSN ISBN10  \\\n",
      "0  Evidence-based medicine in otolaryngology lite...  NaN  NaN   NaN    NaN   \n",
      "1  Physical therapists are healthcare practitione...  NaN  NaN   NaN    NaN   \n",
      "2  Physical therapists are healthcare practitione...  NaN  NaN   NaN    NaN   \n",
      "3                                                NaN  NaN  NaN   NaN    NaN   \n",
      "4                                                NaN  NaN  NaN   NaN    NaN   \n",
      "\n",
      "  ISBN13 JOURNAL Volume / Issue  \n",
      "0    NaN     NaN            NaN  \n",
      "1    NaN     NaN            NaN  \n",
      "2    NaN     NaN            NaN  \n",
      "3    NaN     NaN            NaN  \n",
      "4    NaN     NaN            NaN  \n"
     ]
    },
    {
     "name": "stderr",
     "output_type": "stream",
     "text": [
      "C:\\Users\\David\\Anaconda3\\lib\\site-packages\\IPython\\core\\interactiveshell.py:2723: DtypeWarning: Columns (14,15) have mixed types. Specify dtype option on import or set low_memory=False.\n",
      "  interactivity=interactivity, compiler=compiler, result=result)\n"
     ]
    }
   ],
   "source": [
    "# Open Connection to SQLite database\n",
    "con = sqlite3.connect(\"../publications.sqlite\")\n",
    "\n",
    "# Read CSV into a pandas DataFrame\n",
    "df = pd.read_csv('../scholars_publications.csv', sep=\"\\t\")\n",
    "print(df.head())"
   ]
  },
  {
   "cell_type": "code",
   "execution_count": 3,
   "metadata": {
    "collapsed": false
   },
   "outputs": [
    {
     "name": "stderr",
     "output_type": "stream",
     "text": [
      "C:\\Users\\David\\Anaconda3\\lib\\site-packages\\pandas\\core\\generic.py:1165: UserWarning: The spaces in these column names will not be changed. In pandas versions < 0.14, spaces were converted to underscores.\n",
      "  chunksize=chunksize, dtype=dtype)\n"
     ]
    }
   ],
   "source": [
    "df.to_sql('publication_table', con, if_exists='replace', index=False)"
   ]
  },
  {
   "cell_type": "code",
   "execution_count": 4,
   "metadata": {
    "collapsed": false
   },
   "outputs": [
    {
     "name": "stdout",
     "output_type": "stream",
     "text": [
      "     DUID PRO_FIRST_NAME PRO_MIDDLE_NAME PRO_LAST_NAME  \\\n",
      "0  623466          David               W          Jang   \n",
      "1   73333          Carol          Casper       Figuers   \n",
      "2  279169        Jeffrey            Kyle     Covington   \n",
      "3  690400        Haizhao            None          Yang   \n",
      "4  666575          Nancy            None         Crego   \n",
      "\n",
      "                                        DISPLAY_NAME  \\\n",
      "0  Surgery, Head and Neck Surgery and Communicati...   \n",
      "1                     Orthopaedics, Physical Therapy   \n",
      "2                     Orthopaedics, Physical Therapy   \n",
      "3                                        Mathematics   \n",
      "4                                  School of Nursing   \n",
      "\n",
      "                                               TITLE  \\\n",
      "0  Product comparison model in otolaryngology: Eq...   \n",
      "1  Developing a Professional Embodiment of Moveme...   \n",
      "2  Developing a Professional Embodiment of Moveme...   \n",
      "3  Oscillatory data analysis and fast algorithms ...   \n",
      "4      Factors Influencing Pediatric Sedation Safety   \n",
      "\n",
      "                                        AUTHOR_URI  \\\n",
      "0  https://scholars.duke.edu/individual/per7361302   \n",
      "1  https://scholars.duke.edu/individual/per4051842   \n",
      "2  https://scholars.duke.edu/individual/per0337862   \n",
      "3  https://scholars.duke.edu/individual/per1768002   \n",
      "4  https://scholars.duke.edu/individual/per6474702   \n",
      "\n",
      "                                   PUBLICATION_URI         PUBLISHED_DATE  \\\n",
      "0  https://scholars.duke.edu/individual/pub1118321   1/1/2016 12:00:00 AM   \n",
      "1  https://scholars.duke.edu/individual/pub1071600   3/3/2015 12:00:00 AM   \n",
      "2  https://scholars.duke.edu/individual/pub1071600   3/3/2015 12:00:00 AM   \n",
      "3  https://scholars.duke.edu/individual/pub1083662  6/14/2015 12:00:00 AM   \n",
      "4  https://scholars.duke.edu/individual/pub1110579   7/5/2013 12:00:00 AM   \n",
      "\n",
      "           PUBLICATION_TYPE  \\\n",
      "0  Theses and Dissertations   \n",
      "1  Theses and Dissertations   \n",
      "2  Theses and Dissertations   \n",
      "3  Theses and Dissertations   \n",
      "4  Theses and Dissertations   \n",
      "\n",
      "                                            ABSTRACT   DOI  ISSN EISSN ISBN10  \\\n",
      "0  Evidence-based medicine in otolaryngology lite...  None  None  None   None   \n",
      "1  Physical therapists are healthcare practitione...  None  None  None   None   \n",
      "2  Physical therapists are healthcare practitione...  None  None  None   None   \n",
      "3                                               None  None  None  None   None   \n",
      "4                                               None  None  None  None   None   \n",
      "\n",
      "  ISBN13 JOURNAL Volume / Issue  \n",
      "0   None    None           None  \n",
      "1   None    None           None  \n",
      "2   None    None           None  \n",
      "3   None    None           None  \n",
      "4   None    None           None  \n"
     ]
    }
   ],
   "source": [
    "# verify that result of SQL query stores the dataframe\n",
    "df2 = pd.read_sql_query(\"SELECT * from publication_table\", con)\n",
    "print(df2.head())"
   ]
  },
  {
   "cell_type": "code",
   "execution_count": 5,
   "metadata": {
    "collapsed": true
   },
   "outputs": [],
   "source": [
    "con.close()"
   ]
  },
  {
   "cell_type": "code",
   "execution_count": null,
   "metadata": {
    "collapsed": true
   },
   "outputs": [],
   "source": []
  }
 ],
 "metadata": {
  "kernelspec": {
   "display_name": "Python [Root]",
   "language": "python",
   "name": "Python [Root]"
  },
  "language_info": {
   "codemirror_mode": {
    "name": "ipython",
    "version": 3
   },
   "file_extension": ".py",
   "mimetype": "text/x-python",
   "name": "python",
   "nbconvert_exporter": "python",
   "pygments_lexer": "ipython3",
   "version": "3.5.2"
  }
 },
 "nbformat": 4,
 "nbformat_minor": 0
}

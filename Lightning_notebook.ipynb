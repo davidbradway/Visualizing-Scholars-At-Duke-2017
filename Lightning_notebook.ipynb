{
 "cells": [
  {
   "cell_type": "code",
   "execution_count": null,
   "metadata": {
    "collapsed": false
   },
   "outputs": [],
   "source": [
    "from lightning import Lightning\n",
    "from numpy import random\n",
    "\n",
    "lgn = Lightning(ipython=True, host='http://public.lightning-viz.org')"
   ]
  },
  {
   "cell_type": "code",
   "execution_count": null,
   "metadata": {
    "collapsed": false
   },
   "outputs": [],
   "source": [
    "\n",
    "mat = random.rand(25,25)\n",
    "mat[mat<0.8] = 0\n",
    "group = (random.rand(25) * 5).astype('int')\n",
    "labels = ['vertex ' + str(g) for g in group]\n",
    "\n",
    "lgn.force(mat, labels=labels, group=group)"
   ]
  },
  {
   "cell_type": "code",
   "execution_count": null,
   "metadata": {
    "collapsed": false
   },
   "outputs": [],
   "source": [
    "connections = random.rand(50,50)\n",
    "connections[connections<0.98] = 0\n",
    "\n",
    "g1 = (random.rand(50) * 3).astype('int')\n",
    "g2 = (random.rand(50) * 3).astype('int')\n",
    "group = [g2, g1]\n",
    "\n",
    "lgn.circle(connections, group=group)"
   ]
  },
  {
   "cell_type": "code",
   "execution_count": null,
   "metadata": {
    "collapsed": false
   },
   "outputs": [],
   "source": [
    "import pandas as pd\n",
    "import numpy as np\n",
    "import scipy.io as sio\n",
    "\n",
    "author = pd.read_csv('../author.txt', encoding='cp1252',sep=\";\")\n",
    "#print(author.head())\n",
    "\n",
    "faculty = pd.read_csv('../scholars_faculty.csv', sep=\"\\t\")\n",
    "#print(faculty.head())\n",
    "\n",
    "mat_contents = sio.loadmat('../coauthornet.mat')\n",
    "coauthornet = mat_contents['coauthornet']\n",
    "# Numpy NdArray\n",
    "\n",
    "coauthor = pd.DataFrame(coauthornet,    # values\n",
    "                        index=author['author name'],    # Names as index\n",
    "                        columns=author['author name'])  # Names as column names\n",
    "\n",
    "lgn.force(coauthornet,labels=author['author name'])"
   ]
  },
  {
   "cell_type": "code",
   "execution_count": null,
   "metadata": {
    "collapsed": false
   },
   "outputs": [],
   "source": [
    "author[author['author name']=='Gregg E. Trahey']['duke unique ID,'].iloc[0]"
   ]
  },
  {
   "cell_type": "code",
   "execution_count": null,
   "metadata": {
    "collapsed": false
   },
   "outputs": [],
   "source": [
    "faculty[faculty['DUID']==80652]"
   ]
  },
  {
   "cell_type": "code",
   "execution_count": null,
   "metadata": {
    "collapsed": false
   },
   "outputs": [],
   "source": [
    "faculty[faculty['DUID']==author[author['author name']=='Gregg E. Trahey']['duke unique ID,'].iloc[0]]"
   ]
  },
  {
   "cell_type": "code",
   "execution_count": null,
   "metadata": {
    "collapsed": false
   },
   "outputs": [],
   "source": [
    "faculty[faculty['DUID']==author[author['author name']=='Gregg E. Trahey']['duke unique ID,'].iloc[0]]['Appt Org Desc'].iloc[0]"
   ]
  },
  {
   "cell_type": "code",
   "execution_count": null,
   "metadata": {
    "collapsed": true
   },
   "outputs": [],
   "source": []
  }
 ],
 "metadata": {
  "kernelspec": {
   "display_name": "Python 3",
   "language": "python",
   "name": "python3"
  },
  "language_info": {
   "codemirror_mode": {
    "name": "ipython",
    "version": 3
   },
   "file_extension": ".py",
   "mimetype": "text/x-python",
   "name": "python",
   "nbconvert_exporter": "python",
   "pygments_lexer": "ipython3",
   "version": "3.5.2"
  }
 },
 "nbformat": 4,
 "nbformat_minor": 0
}

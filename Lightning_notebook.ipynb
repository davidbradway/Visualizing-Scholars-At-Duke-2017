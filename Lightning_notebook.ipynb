{
 "cells": [
  {
   "cell_type": "code",
   "execution_count": null,
   "metadata": {
    "collapsed": false
   },
   "outputs": [],
   "source": [
    "from lightning import Lightning\n",
    "from numpy import random\n",
    "\n",
    "lgn = Lightning(host='http://public.lightning-viz.org')"
   ]
  },
  {
   "cell_type": "code",
   "execution_count": null,
   "metadata": {
    "collapsed": false
   },
   "outputs": [],
   "source": [
    "\n",
    "mat = random.rand(25,25)\n",
    "mat[mat<0.8] = 0\n",
    "group = (random.rand(25) * 5).astype('int')\n",
    "labels = ['vertex ' + str(g) for g in group]\n",
    "\n",
    "lgn.force(mat, labels=labels, group=group)"
   ]
  },
  {
   "cell_type": "code",
   "execution_count": null,
   "metadata": {
    "collapsed": false
   },
   "outputs": [],
   "source": [
    "connections = random.rand(50,50)\n",
    "connections[connections<0.98] = 0\n",
    "\n",
    "g1 = (random.rand(50) * 3).astype('int')\n",
    "g2 = (random.rand(50) * 3).astype('int')\n",
    "group = [g2, g1]\n",
    "print((group))\n",
    "lgn.circle(connections, group=group)"
   ]
  },
  {
   "cell_type": "code",
   "execution_count": null,
   "metadata": {
    "collapsed": false,
    "scrolled": true
   },
   "outputs": [],
   "source": [
    "import pandas as pd\n",
    "import numpy as np\n",
    "import scipy.io as sio\n",
    "\n",
    "author = pd.read_csv('../author.txt', encoding='cp1252',sep=\";\")\n",
    "#print(author.head())\n",
    "\n",
    "faculty = pd.read_csv('../scholars_faculty.csv', sep=\"\\t\")\n",
    "#print(faculty.head())\n",
    "\n",
    "mat_contents = sio.loadmat('../coauthornet.mat')\n",
    "coauthornet = mat_contents['coauthornet']\n",
    "# Numpy NdArray\n",
    "\n",
    "coauthor = pd.DataFrame(coauthornet,    # values\n",
    "                        index=author['author name'],    # Names as index\n",
    "                        columns=author['author name'])  # Names as column names\n",
    "\n",
    "lgn.force(coauthornet,labels=author['author name'])"
   ]
  },
  {
   "cell_type": "code",
   "execution_count": null,
   "metadata": {
    "collapsed": false
   },
   "outputs": [],
   "source": [
    "#print(coauthornet[1103,1102])\n",
    "#print(author.iloc[1103])\n",
    "#print(author.iloc[1102])\n",
    "temp = coauthornet[(1103,1102,2188,1551,1826,965,819,1105,1230,2013,2068,1591,36,230),:]\n",
    "#print(temp.shape)\n",
    "temp2 = temp[:,(1103,1102,2188,1551,1826,965,819,1105,1230,2013,2068,1591,36,230)]\n",
    "#print(temp2)\n",
    "\n",
    "tempauthor = author.iloc[[1103,1102,2188,1551,1826,965,819,1105,1230,2013,2068,1591,36,230],:]\n",
    "#print(tempauthor.head())"
   ]
  },
  {
   "cell_type": "code",
   "execution_count": null,
   "metadata": {
    "collapsed": false
   },
   "outputs": [],
   "source": [
    "# faculty[faculty['DUID']==tempauthor.iloc[8]['duke unique ID,']]['Appt Org Desc'].iloc[0]\n",
    "\n",
    "label2 = []\n",
    "depts = []\n",
    "for i in range(tempauthor.shape[0]):\n",
    "    depts.append(faculty[faculty['DUID']==tempauthor.iloc[i]['duke unique ID,']]['Appt Org Desc'].iloc[0])\n",
    "    label2.append(tempauthor.iloc[i]['author name'] +\n",
    "                  \",\\n \" + \n",
    "                  faculty[faculty['DUID']==tempauthor.iloc[i]['duke unique ID,']]['Appt Org Desc'].iloc[0])\n",
    "#print(label2)\n",
    "#print(depts)\n",
    "\n",
    "seen = []\n",
    "depts_int = []\n",
    "new = 1\n",
    "# look at each department in the list\n",
    "for i in range(len(depts)):\n",
    "    # if we haven't seen it yet,\n",
    "    if depts[i] not in seen:\n",
    "        # add an integer to represent that department\n",
    "        depts_int.append(new)\n",
    "        # increment the integer that is used\n",
    "        new = new + 1\n",
    "        # add this department to the list of those that have been seen\n",
    "        seen.append(depts[i])\n",
    "    else:\n",
    "        # else we did see it\n",
    "        # get the first instance of this department, look up its integer, and append it\n",
    "        depts_int.append(depts_int[depts.index(depts[i])])\n",
    "#print(depts_int)\n",
    "    "
   ]
  },
  {
   "cell_type": "code",
   "execution_count": null,
   "metadata": {
    "collapsed": false
   },
   "outputs": [],
   "source": [
    "lgn.force(temp2, labels=label2, group=depts_int)"
   ]
  },
  {
   "cell_type": "code",
   "execution_count": null,
   "metadata": {
    "collapsed": false,
    "scrolled": false
   },
   "outputs": [],
   "source": [
    "lgn.circle(temp2, labels=tempauthor['author name'], group=depts_int)"
   ]
  }
 ],
 "metadata": {
  "kernelspec": {
   "display_name": "Python 3",
   "language": "python",
   "name": "python3"
  },
  "language_info": {
   "codemirror_mode": {
    "name": "ipython",
    "version": 3
   },
   "file_extension": ".py",
   "mimetype": "text/x-python",
   "name": "python",
   "nbconvert_exporter": "python",
   "pygments_lexer": "ipython3",
   "version": "3.5.2"
  }
 },
 "nbformat": 4,
 "nbformat_minor": 0
}
